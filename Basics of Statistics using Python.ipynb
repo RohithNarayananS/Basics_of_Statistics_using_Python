{
 "cells": [
  {
   "cell_type": "markdown",
   "id": "21190e9c",
   "metadata": {},
   "source": [
    "# Basics of Statistics using Python"
   ]
  },
  {
   "cell_type": "markdown",
   "id": "df805536",
   "metadata": {},
   "source": [
    "### Measure Of Central Tendency"
   ]
  },
  {
   "cell_type": "code",
   "execution_count": 1,
   "id": "fba06b26",
   "metadata": {},
   "outputs": [],
   "source": [
    "import numpy as np"
   ]
  },
  {
   "cell_type": "code",
   "execution_count": 2,
   "id": "5c6ef24d",
   "metadata": {},
   "outputs": [],
   "source": [
    "A = [1,2,3,4,5]\n",
    "B = [1,2,3,4,5,500]\n",
    "C = [7,4,21,81,64,116]\n",
    "D = [12,16,84,69]"
   ]
  },
  {
   "cell_type": "markdown",
   "id": "5f9990eb",
   "metadata": {},
   "source": [
    "#### Measure Mean of The arrays"
   ]
  },
  {
   "cell_type": "code",
   "execution_count": 3,
   "id": "32340fd6",
   "metadata": {},
   "outputs": [],
   "source": [
    "def Mean(X):\n",
    "    print('Mean:', np.mean(X))"
   ]
  },
  {
   "cell_type": "code",
   "execution_count": 4,
   "id": "77aba548",
   "metadata": {},
   "outputs": [
    {
     "name": "stdout",
     "output_type": "stream",
     "text": [
      "Mean: 3.0\n"
     ]
    }
   ],
   "source": [
    "Mean(A)"
   ]
  },
  {
   "cell_type": "code",
   "execution_count": 5,
   "id": "d19063f2",
   "metadata": {},
   "outputs": [
    {
     "name": "stdout",
     "output_type": "stream",
     "text": [
      "Mean: 85.83333333333333\n"
     ]
    }
   ],
   "source": [
    "Mean(B)"
   ]
  },
  {
   "cell_type": "code",
   "execution_count": 6,
   "id": "d5634f90",
   "metadata": {},
   "outputs": [
    {
     "name": "stdout",
     "output_type": "stream",
     "text": [
      "Mean: 48.833333333333336\n"
     ]
    }
   ],
   "source": [
    "Mean(C)"
   ]
  },
  {
   "cell_type": "code",
   "execution_count": 7,
   "id": "1d69322e",
   "metadata": {},
   "outputs": [
    {
     "name": "stdout",
     "output_type": "stream",
     "text": [
      "Mean: 45.25\n"
     ]
    }
   ],
   "source": [
    "Mean(D)"
   ]
  },
  {
   "cell_type": "markdown",
   "id": "452410dc",
   "metadata": {},
   "source": [
    "#### Measure Median of The arrays"
   ]
  },
  {
   "cell_type": "code",
   "execution_count": 8,
   "id": "ff6a5589",
   "metadata": {},
   "outputs": [],
   "source": [
    "def Median(X):\n",
    "    print('Median:', np.median(X))"
   ]
  },
  {
   "cell_type": "code",
   "execution_count": 9,
   "id": "f424d935",
   "metadata": {},
   "outputs": [
    {
     "name": "stdout",
     "output_type": "stream",
     "text": [
      "Median: 3.0\n"
     ]
    }
   ],
   "source": [
    "Median(A)"
   ]
  },
  {
   "cell_type": "code",
   "execution_count": 10,
   "id": "74d0dfc8",
   "metadata": {},
   "outputs": [
    {
     "name": "stdout",
     "output_type": "stream",
     "text": [
      "Median: 3.5\n"
     ]
    }
   ],
   "source": [
    "Median(B)"
   ]
  },
  {
   "cell_type": "code",
   "execution_count": 11,
   "id": "8433ebb2",
   "metadata": {},
   "outputs": [
    {
     "name": "stdout",
     "output_type": "stream",
     "text": [
      "Median: 42.5\n"
     ]
    }
   ],
   "source": [
    "Median(C)"
   ]
  },
  {
   "cell_type": "code",
   "execution_count": 12,
   "id": "18f90b97",
   "metadata": {},
   "outputs": [
    {
     "name": "stdout",
     "output_type": "stream",
     "text": [
      "Median: 42.5\n"
     ]
    }
   ],
   "source": [
    "Median(D)"
   ]
  },
  {
   "cell_type": "markdown",
   "id": "fa540465",
   "metadata": {},
   "source": [
    "#### Measure Mode of The arrays"
   ]
  },
  {
   "cell_type": "code",
   "execution_count": 13,
   "id": "2e47e306",
   "metadata": {},
   "outputs": [],
   "source": [
    "E = [1,1,7,5,4,6]\n",
    "F = [1,1,2,2,3,4,5]"
   ]
  },
  {
   "cell_type": "code",
   "execution_count": 14,
   "id": "a9590abb",
   "metadata": {},
   "outputs": [],
   "source": [
    "from scipy import stats"
   ]
  },
  {
   "cell_type": "code",
   "execution_count": 15,
   "id": "6955b30e",
   "metadata": {},
   "outputs": [],
   "source": [
    "def Mode(X):\n",
    "    array = np.array(X)\n",
    "    mode = stats.mode(array)\n",
    "    print(mode[0:])"
   ]
  },
  {
   "cell_type": "code",
   "execution_count": 16,
   "id": "1787665f",
   "metadata": {},
   "outputs": [
    {
     "name": "stdout",
     "output_type": "stream",
     "text": [
      "(array([1]), array([2]))\n"
     ]
    }
   ],
   "source": [
    "Mode(E)"
   ]
  },
  {
   "cell_type": "code",
   "execution_count": 17,
   "id": "3c131093",
   "metadata": {},
   "outputs": [
    {
     "name": "stdout",
     "output_type": "stream",
     "text": [
      "(array([1]), array([2]))\n"
     ]
    }
   ],
   "source": [
    "Mode(F)"
   ]
  },
  {
   "cell_type": "markdown",
   "id": "d3ea2fd5",
   "metadata": {},
   "source": [
    "### Find Code For Muntiple Mode:"
   ]
  },
  {
   "cell_type": "markdown",
   "id": "25d11d5b",
   "metadata": {},
   "source": [
    "#### Measure Quantiles For The Arrays"
   ]
  },
  {
   "cell_type": "code",
   "execution_count": 18,
   "id": "2088c34b",
   "metadata": {},
   "outputs": [],
   "source": [
    "G = [2,3,1,4,5]\n",
    "H = [1,4,3,2]"
   ]
  },
  {
   "cell_type": "code",
   "execution_count": 19,
   "id": "9dd6c75d",
   "metadata": {},
   "outputs": [],
   "source": [
    "def Quantiles(X):\n",
    "    print(np.quantile(X,.25))\n",
    "    print(np.quantile(X,.50))\n",
    "    print(np.quantile(X,.75))"
   ]
  },
  {
   "cell_type": "code",
   "execution_count": 20,
   "id": "db89991c",
   "metadata": {},
   "outputs": [
    {
     "name": "stdout",
     "output_type": "stream",
     "text": [
      "2.0\n",
      "3.0\n",
      "4.0\n"
     ]
    }
   ],
   "source": [
    "Quantiles(A)"
   ]
  },
  {
   "cell_type": "code",
   "execution_count": 21,
   "id": "444388e6",
   "metadata": {},
   "outputs": [
    {
     "name": "stdout",
     "output_type": "stream",
     "text": [
      "2.0\n",
      "3.0\n",
      "4.0\n"
     ]
    }
   ],
   "source": [
    "Quantiles(G)"
   ]
  },
  {
   "cell_type": "code",
   "execution_count": 22,
   "id": "c0dd2604",
   "metadata": {},
   "outputs": [
    {
     "name": "stdout",
     "output_type": "stream",
     "text": [
      "1.5\n",
      "2.0\n",
      "3.5\n"
     ]
    }
   ],
   "source": [
    "Quantiles(F)"
   ]
  },
  {
   "cell_type": "code",
   "execution_count": 23,
   "id": "07b0a8e6",
   "metadata": {},
   "outputs": [
    {
     "name": "stdout",
     "output_type": "stream",
     "text": [
      "1.75\n",
      "2.5\n",
      "3.25\n"
     ]
    }
   ],
   "source": [
    "Quantiles(H)"
   ]
  },
  {
   "cell_type": "markdown",
   "id": "83a3ef16",
   "metadata": {},
   "source": [
    "###"
   ]
  },
  {
   "cell_type": "code",
   "execution_count": 24,
   "id": "ded05b19",
   "metadata": {},
   "outputs": [],
   "source": [
    "def Deciles(X):\n",
    "    print(np.quantile(X,.10))\n",
    "    print(np.quantile(X,.20))\n",
    "    print(np.quantile(X,.30))\n",
    "    print(np.quantile(X,.40))\n",
    "    print(np.quantile(X,.50))\n",
    "    print(np.quantile(X,.60))\n",
    "    print(np.quantile(X,.70))\n",
    "    print(np.quantile(X,.80))\n",
    "    print(np.quantile(X,.90))"
   ]
  },
  {
   "cell_type": "code",
   "execution_count": 25,
   "id": "1cf17f2d",
   "metadata": {},
   "outputs": [
    {
     "name": "stdout",
     "output_type": "stream",
     "text": [
      "1.0\n",
      "1.2000000000000002\n",
      "1.7999999999999998\n",
      "2.0\n",
      "2.0\n",
      "2.5999999999999996\n",
      "3.1999999999999993\n",
      "3.8000000000000007\n",
      "4.4\n"
     ]
    }
   ],
   "source": [
    "Deciles(F)"
   ]
  },
  {
   "cell_type": "code",
   "execution_count": 26,
   "id": "af3f3623",
   "metadata": {},
   "outputs": [],
   "source": [
    "def Percentiles(X):\n",
    "    print(np.quantile(X,.01))\n",
    "    print(np.quantile(X,.02))\n",
    "    print(np.quantile(X,.03))\n",
    "    print(np.quantile(X,.04))\n",
    "    print(np.quantile(X,.05))\n",
    "    print(np.quantile(X,.06))\n",
    "    print(np.quantile(X,.07))\n",
    "    print(np.quantile(X,.08))\n",
    "    print(np.quantile(X,.09))"
   ]
  },
  {
   "cell_type": "code",
   "execution_count": 27,
   "id": "d8f7dcd8",
   "metadata": {},
   "outputs": [
    {
     "name": "stdout",
     "output_type": "stream",
     "text": [
      "1.0\n",
      "1.0\n",
      "1.0\n",
      "1.0\n",
      "1.0\n",
      "1.0\n",
      "1.0\n",
      "1.0\n",
      "1.0\n"
     ]
    }
   ],
   "source": [
    "Percentiles(F)"
   ]
  },
  {
   "cell_type": "markdown",
   "id": "b2da4d5c",
   "metadata": {},
   "source": [
    "### Measure Of Dispersion"
   ]
  },
  {
   "cell_type": "markdown",
   "id": "3476968d",
   "metadata": {},
   "source": [
    "### Range"
   ]
  },
  {
   "cell_type": "code",
   "execution_count": 28,
   "id": "0a5650ae",
   "metadata": {},
   "outputs": [],
   "source": [
    "def Range(X):\n",
    "    array = np.array(X)\n",
    "    range= np.max(array) - np.min(array)\n",
    "    print(range)"
   ]
  },
  {
   "cell_type": "code",
   "execution_count": 29,
   "id": "12ff1261",
   "metadata": {},
   "outputs": [
    {
     "name": "stdout",
     "output_type": "stream",
     "text": [
      "4\n"
     ]
    }
   ],
   "source": [
    "Range(A)"
   ]
  },
  {
   "cell_type": "markdown",
   "id": "ab1bde4a",
   "metadata": {},
   "source": [
    "### Varience"
   ]
  },
  {
   "cell_type": "code",
   "execution_count": 30,
   "id": "82330493",
   "metadata": {},
   "outputs": [],
   "source": [
    "I = [1.1,1.2,1.3,1.4,1.5]"
   ]
  },
  {
   "cell_type": "code",
   "execution_count": 31,
   "id": "8cc5f0cf",
   "metadata": {},
   "outputs": [],
   "source": [
    "def Varience(X):\n",
    "    Var = np.var(X)\n",
    "    print(Var)"
   ]
  },
  {
   "cell_type": "code",
   "execution_count": 32,
   "id": "a21191fd",
   "metadata": {},
   "outputs": [
    {
     "name": "stdout",
     "output_type": "stream",
     "text": [
      "2.0\n"
     ]
    }
   ],
   "source": [
    "Varience(A)"
   ]
  },
  {
   "cell_type": "code",
   "execution_count": 33,
   "id": "5fa46f29",
   "metadata": {},
   "outputs": [
    {
     "name": "stdout",
     "output_type": "stream",
     "text": [
      "34308.47222222222\n"
     ]
    }
   ],
   "source": [
    "Varience(B)"
   ]
  },
  {
   "cell_type": "code",
   "execution_count": 34,
   "id": "10769ca3",
   "metadata": {},
   "outputs": [
    {
     "name": "stdout",
     "output_type": "stream",
     "text": [
      "0.01999999999999999\n"
     ]
    }
   ],
   "source": [
    "Varience(I)"
   ]
  },
  {
   "cell_type": "code",
   "execution_count": 35,
   "id": "620d71a6",
   "metadata": {},
   "outputs": [],
   "source": [
    "def Standard_Deviation(X):\n",
    "    SD = np.std(X)\n",
    "    print(SD)"
   ]
  },
  {
   "cell_type": "code",
   "execution_count": 36,
   "id": "3c7aec68",
   "metadata": {},
   "outputs": [
    {
     "name": "stdout",
     "output_type": "stream",
     "text": [
      "1.4142135623730951\n"
     ]
    }
   ],
   "source": [
    "Standard_Deviation(A)"
   ]
  },
  {
   "cell_type": "code",
   "execution_count": 37,
   "id": "b54181fb",
   "metadata": {},
   "outputs": [
    {
     "name": "stdout",
     "output_type": "stream",
     "text": [
      "185.22546321233003\n"
     ]
    }
   ],
   "source": [
    "Standard_Deviation(B)"
   ]
  },
  {
   "cell_type": "markdown",
   "id": "c74af66a",
   "metadata": {},
   "source": [
    "### Inter Quantile Range"
   ]
  },
  {
   "cell_type": "code",
   "execution_count": 38,
   "id": "bc294307",
   "metadata": {},
   "outputs": [],
   "source": [
    "def IQR(X):\n",
    "    Q1=np.quantile(X,.25)\n",
    "    Q3=np.quantile(X,.75)\n",
    "    IQR = Q3 - Q1\n",
    "    print('Inter Quantile Range:',IQR)"
   ]
  },
  {
   "cell_type": "code",
   "execution_count": 39,
   "id": "ec5a3e0d",
   "metadata": {},
   "outputs": [
    {
     "name": "stdout",
     "output_type": "stream",
     "text": [
      "Inter Quantile Range: 2.0\n"
     ]
    }
   ],
   "source": [
    "IQR(A)"
   ]
  },
  {
   "cell_type": "code",
   "execution_count": 40,
   "id": "4f270810",
   "metadata": {},
   "outputs": [
    {
     "name": "stdout",
     "output_type": "stream",
     "text": [
      "Inter Quantile Range: 1.5\n"
     ]
    }
   ],
   "source": [
    "IQR(H)"
   ]
  },
  {
   "cell_type": "code",
   "execution_count": 41,
   "id": "e16b72d5",
   "metadata": {},
   "outputs": [],
   "source": [
    "J = [1,2,3,4,5,17]"
   ]
  },
  {
   "cell_type": "code",
   "execution_count": 42,
   "id": "a2b45890",
   "metadata": {},
   "outputs": [
    {
     "name": "stdout",
     "output_type": "stream",
     "text": [
      "Mean: 5.333333333333333\n",
      "Median: 3.5\n",
      "28.888888888888896\n",
      "5.3748384988657\n"
     ]
    }
   ],
   "source": [
    "Mean(J)\n",
    "Median(J)\n",
    "Varience(J)\n",
    "Standard_Deviation(J)"
   ]
  }
 ],
 "metadata": {
  "kernelspec": {
   "display_name": "Python 3 (ipykernel)",
   "language": "python",
   "name": "python3"
  },
  "language_info": {
   "codemirror_mode": {
    "name": "ipython",
    "version": 3
   },
   "file_extension": ".py",
   "mimetype": "text/x-python",
   "name": "python",
   "nbconvert_exporter": "python",
   "pygments_lexer": "ipython3",
   "version": "3.9.7"
  }
 },
 "nbformat": 4,
 "nbformat_minor": 5
}
