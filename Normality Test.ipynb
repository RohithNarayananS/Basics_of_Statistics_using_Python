{
 "cells": [
  {
   "cell_type": "code",
   "execution_count": 1,
   "id": "fdb8d04b",
   "metadata": {},
   "outputs": [],
   "source": [
    "#Importing basic Libraries\n",
    "import numpy as np"
   ]
  },
  {
   "cell_type": "markdown",
   "id": "532abd03",
   "metadata": {},
   "source": [
    "# Shapiro-Wilk Test"
   ]
  },
  {
   "cell_type": "code",
   "execution_count": 2,
   "id": "44d9ef1b",
   "metadata": {},
   "outputs": [],
   "source": [
    "#Importing Necessary Libraries\n",
    "from scipy.stats import shapiro"
   ]
  },
  {
   "cell_type": "code",
   "execution_count": 3,
   "id": "31db2bee",
   "metadata": {},
   "outputs": [],
   "source": [
    "#Create a data by generating a random sample\n",
    "water_in_mm=np.random.random(200)*100"
   ]
  },
  {
   "cell_type": "code",
   "execution_count": 4,
   "id": "0c8ec5b7",
   "metadata": {},
   "outputs": [],
   "source": [
    "#The Null and Alternate Hypothesis of Shapiro-Wilk test are as follows:\n",
    "#*Against*\n",
    "# H0: The Data is Normally Distributed\n",
    "# Ha: The Data is Not Normally Distributed"
   ]
  },
  {
   "cell_type": "code",
   "execution_count": 5,
   "id": "f2e55bfc",
   "metadata": {},
   "outputs": [
    {
     "name": "stdout",
     "output_type": "stream",
     "text": [
      "The test statistics is  0.9585962295532227 and it's p-value is  1.398384483763948e-05\n"
     ]
    }
   ],
   "source": [
    "#Conducting the normality test\n",
    "stat, p =shapiro(water_in_mm)\n",
    "print(\"The test statistics is \",stat,\"and it's p-value is \",p)"
   ]
  },
  {
   "cell_type": "markdown",
   "id": "929cb3a7",
   "metadata": {},
   "source": [
    "# Jarque-Bera Test"
   ]
  },
  {
   "cell_type": "code",
   "execution_count": 6,
   "id": "3e2a9719",
   "metadata": {},
   "outputs": [],
   "source": [
    "#Importing Necessary Libraries\n",
    "from scipy.stats import jarque_bera"
   ]
  },
  {
   "cell_type": "code",
   "execution_count": 7,
   "id": "f219acb0",
   "metadata": {},
   "outputs": [],
   "source": [
    "diameter_in_mm=np.random.normal(loc=4, scale=0.7, size=6000)+np.random.normal(loc=5, scale=0.1, size=6000)"
   ]
  },
  {
   "cell_type": "code",
   "execution_count": 8,
   "id": "3285d77e",
   "metadata": {},
   "outputs": [],
   "source": [
    "#The Null and Alternate Hypothesis of Shapiro-Wilk test are as follows:\n",
    "#*Against*\n",
    "# H0: The Data is Normally Distributed\n",
    "# Ha: The Data is Not Normally Distributed"
   ]
  },
  {
   "cell_type": "code",
   "execution_count": 9,
   "id": "c02a3b34",
   "metadata": {},
   "outputs": [
    {
     "name": "stdout",
     "output_type": "stream",
     "text": [
      "The test statistic is  0.8596939763743063  and p value is  0.6506086379146214\n"
     ]
    }
   ],
   "source": [
    "#Conducting the normality test\n",
    "stat, p=jarque_bera(diameter_in_mm)\n",
    "print('The test statistic is ',stat,' and p value is ',p)"
   ]
  }
 ],
 "metadata": {
  "kernelspec": {
   "display_name": "Python 3",
   "language": "python",
   "name": "python3"
  },
  "language_info": {
   "codemirror_mode": {
    "name": "ipython",
    "version": 3
   },
   "file_extension": ".py",
   "mimetype": "text/x-python",
   "name": "python",
   "nbconvert_exporter": "python",
   "pygments_lexer": "ipython3",
   "version": "3.8.8"
  }
 },
 "nbformat": 4,
 "nbformat_minor": 5
}
