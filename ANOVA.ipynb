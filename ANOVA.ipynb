{
 "cells": [
  {
   "cell_type": "code",
   "execution_count": 1,
   "id": "328d9b2c",
   "metadata": {},
   "outputs": [],
   "source": [
    "from scipy.stats import f_oneway"
   ]
  },
  {
   "cell_type": "markdown",
   "id": "42409730",
   "metadata": {},
   "source": [
    "# Sum 1"
   ]
  },
  {
   "cell_type": "code",
   "execution_count": 2,
   "id": "04dae119",
   "metadata": {},
   "outputs": [],
   "source": [
    "#data from groups\n",
    "G1 = [2,3,7,2,6]\n",
    "G2 = [10,8,7,5,10]\n",
    "G3 = [10,13,14,13,15]"
   ]
  },
  {
   "cell_type": "code",
   "execution_count": 3,
   "id": "dd92e32b",
   "metadata": {},
   "outputs": [
    {
     "data": {
      "text/plain": [
       "F_onewayResult(statistic=22.59259259259259, pvalue=8.538592454274676e-05)"
      ]
     },
     "execution_count": 3,
     "metadata": {},
     "output_type": "execute_result"
    }
   ],
   "source": [
    "f_oneway(G1,G2,G3)"
   ]
  },
  {
   "cell_type": "markdown",
   "id": "d2a1c303",
   "metadata": {},
   "source": [
    "# Sum 2"
   ]
  },
  {
   "cell_type": "code",
   "execution_count": 4,
   "id": "24855eb7",
   "metadata": {},
   "outputs": [],
   "source": [
    "import pandas as pd\n",
    "from statsmodels.stats.multicomp import (pairwise_tukeyhsd, MultiComparison)"
   ]
  },
  {
   "cell_type": "code",
   "execution_count": 5,
   "id": "5b78b661",
   "metadata": {},
   "outputs": [],
   "source": [
    "#data from groups\n",
    "df=pd.DataFrame({\"G1\":[9,12,14,11,13], \"G2\":[10,6,9,9,10], \"G3\":[12,14,11,13,11], \"G4\":[9,8,11,7,8]})"
   ]
  },
  {
   "cell_type": "code",
   "execution_count": 6,
   "id": "382b3df2",
   "metadata": {},
   "outputs": [],
   "source": [
    "#to stack data and reset index\n",
    "st_data=df.stack().reset_index()"
   ]
  },
  {
   "cell_type": "code",
   "execution_count": 7,
   "id": "178baa90",
   "metadata": {},
   "outputs": [],
   "source": [
    "#rename the columns\n",
    "st_data = st_data.rename(columns={'level_0':'Id','level_1':'Programme',0:'Number Of Tasks'})"
   ]
  },
  {
   "cell_type": "code",
   "execution_count": 8,
   "id": "6b7821dd",
   "metadata": {},
   "outputs": [],
   "source": [
    "#data setup for comparison\n",
    "MultiComp=MultiComparison(st_data['Number Of Tasks'], st_data['Programme'])"
   ]
  },
  {
   "cell_type": "code",
   "execution_count": 9,
   "id": "f301b431",
   "metadata": {},
   "outputs": [
    {
     "name": "stdout",
     "output_type": "stream",
     "text": [
      "Multiple Comparison of Means - Tukey HSD, FWER=0.05 \n",
      "====================================================\n",
      "group1 group2 meandiff p-adj   lower   upper  reject\n",
      "----------------------------------------------------\n",
      "    G1     G2     -3.0 0.0428 -5.9179 -0.0821   True\n",
      "    G1     G3      0.4    0.9 -2.5179  3.3179  False\n",
      "    G1     G4     -3.2 0.0292 -6.1179 -0.2821   True\n",
      "    G2     G3      3.4 0.0198  0.4821  6.3179   True\n",
      "    G2     G4     -0.2    0.9 -3.1179  2.7179  False\n",
      "    G3     G4     -3.6 0.0133 -6.5179 -0.6821   True\n",
      "----------------------------------------------------\n"
     ]
    }
   ],
   "source": [
    "#print the Tukey HSD post hoc test\n",
    "print(MultiComp.tukeyhsd().summary())"
   ]
  },
  {
   "cell_type": "markdown",
   "id": "26ef1513",
   "metadata": {},
   "source": [
    "# Sum 3"
   ]
  },
  {
   "cell_type": "code",
   "execution_count": 10,
   "id": "f82bc896",
   "metadata": {},
   "outputs": [],
   "source": [
    "#data from groups\n",
    "df=pd.DataFrame({\"G1\":[2,3,7,2,6], \"G2\":[10,8,7,5,10], \"G3\":[10,13,14,13,15]})"
   ]
  },
  {
   "cell_type": "code",
   "execution_count": 11,
   "id": "4aa9d05a",
   "metadata": {},
   "outputs": [],
   "source": [
    "#to stack data and reset index\n",
    "st_data=df.stack().reset_index()"
   ]
  },
  {
   "cell_type": "code",
   "execution_count": 12,
   "id": "ec1085c4",
   "metadata": {},
   "outputs": [],
   "source": [
    "#rename the columns\n",
    "st_data = st_data.rename(columns={'level_0':'Id','level_1':'Programme',0:'Number Of Tasks'})"
   ]
  },
  {
   "cell_type": "code",
   "execution_count": 13,
   "id": "28e9e111",
   "metadata": {},
   "outputs": [],
   "source": [
    "#data setup for comparison\n",
    "MultiComp=MultiComparison(st_data['Number Of Tasks'], st_data['Programme'])"
   ]
  },
  {
   "cell_type": "code",
   "execution_count": 14,
   "id": "15e0dfe2",
   "metadata": {},
   "outputs": [
    {
     "name": "stdout",
     "output_type": "stream",
     "text": [
      "Multiple Comparison of Means - Tukey HSD, FWER=0.05\n",
      "===================================================\n",
      "group1 group2 meandiff p-adj  lower   upper  reject\n",
      "---------------------------------------------------\n",
      "    G1     G2      4.0 0.0286 0.4224  7.5776   True\n",
      "    G1     G3      9.0  0.001 5.4224 12.5776   True\n",
      "    G2     G3      5.0 0.0075 1.4224  8.5776   True\n",
      "---------------------------------------------------\n"
     ]
    }
   ],
   "source": [
    "#print the Tukey HSD post hoc test\n",
    "print(MultiComp.tukeyhsd().summary())"
   ]
  },
  {
   "cell_type": "code",
   "execution_count": null,
   "id": "c6bb9000",
   "metadata": {},
   "outputs": [],
   "source": []
  }
 ],
 "metadata": {
  "kernelspec": {
   "display_name": "Python 3",
   "language": "python",
   "name": "python3"
  },
  "language_info": {
   "codemirror_mode": {
    "name": "ipython",
    "version": 3
   },
   "file_extension": ".py",
   "mimetype": "text/x-python",
   "name": "python",
   "nbconvert_exporter": "python",
   "pygments_lexer": "ipython3",
   "version": "3.8.8"
  }
 },
 "nbformat": 4,
 "nbformat_minor": 5
}
